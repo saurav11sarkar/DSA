{
  "nbformat": 4,
  "nbformat_minor": 0,
  "metadata": {
    "colab": {
      "provenance": [],
      "authorship_tag": "ABX9TyOWTERIXNQaMYLs5xUjKIit",
      "include_colab_link": true
    },
    "kernelspec": {
      "name": "python3",
      "display_name": "Python 3"
    },
    "language_info": {
      "name": "python"
    }
  },
  "cells": [
    {
      "cell_type": "markdown",
      "metadata": {
        "id": "view-in-github",
        "colab_type": "text"
      },
      "source": [
        "<a href=\"https://colab.research.google.com/github/saurav11sarkar/DSA/blob/main/Stack.ipynb\" target=\"_parent\"><img src=\"https://colab.research.google.com/assets/colab-badge.svg\" alt=\"Open In Colab\"/></a>"
      ]
    },
    {
      "cell_type": "code",
      "execution_count": 7,
      "metadata": {
        "colab": {
          "base_uri": "https://localhost:8080/"
        },
        "id": "7_n0bNb_ogP3",
        "outputId": "cdc50f9f-bc1c-4cda-c7b0-1805ad221976"
      },
      "outputs": [
        {
          "output_type": "stream",
          "name": "stdout",
          "text": [
            "1\n"
          ]
        }
      ],
      "source": [
        "class Node:\n",
        "  def __init__(self,value):\n",
        "    self.value = value\n",
        "    self.next = None\n",
        "\n",
        "class Stack:\n",
        "  def __init__(self,value):\n",
        "    new_node = Node(value)\n",
        "    self.top = new_node\n",
        "    self.height = 1\n",
        "\n",
        "  def print_stack(self):\n",
        "    temp = self.top\n",
        "    while temp is not None:\n",
        "      print(temp.value)\n",
        "      temp = temp.next\n",
        "\n",
        "  def push(self,value):\n",
        "    new_node = Node(value)\n",
        "    if self.height == 0:\n",
        "      self.top = new_node\n",
        "    else:\n",
        "      new_node.next = self.top\n",
        "      self.top = new_node\n",
        "    self.height += 1\n",
        "    return True\n",
        "\n",
        "  def pop(self):\n",
        "    if self.height == 0:\n",
        "      return None\n",
        "    temp = self.top\n",
        "    self.top = self.top.next\n",
        "    temp.next = self.top\n",
        "    self.height -= 1\n",
        "    return temp\n",
        "\n",
        "my_stack = Stack(1)\n",
        "my_stack.push(2)\n",
        "# my_stack.push(3)\n",
        "# my_stack.pop()\n",
        "# my_stack.pop()\n",
        "my_stack.print_stack()"
      ]
    },
    {
      "cell_type": "code",
      "source": [],
      "metadata": {
        "id": "FwFICVBRqkR2"
      },
      "execution_count": null,
      "outputs": []
    }
  ]
}