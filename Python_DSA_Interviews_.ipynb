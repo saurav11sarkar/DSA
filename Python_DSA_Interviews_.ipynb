{
  "nbformat": 4,
  "nbformat_minor": 0,
  "metadata": {
    "colab": {
      "provenance": [],
      "toc_visible": true,
      "authorship_tag": "ABX9TyMYB2l/fRdqF7JHesBLtGPg",
      "include_colab_link": true
    },
    "kernelspec": {
      "name": "python3",
      "display_name": "Python 3"
    },
    "language_info": {
      "name": "python"
    }
  },
  "cells": [
    {
      "cell_type": "markdown",
      "metadata": {
        "id": "view-in-github",
        "colab_type": "text"
      },
      "source": [
        "<a href=\"https://colab.research.google.com/github/saurav11sarkar/DSA/blob/main/Python_DSA_Interviews_.ipynb\" target=\"_parent\"><img src=\"https://colab.research.google.com/assets/colab-badge.svg\" alt=\"Open In Colab\"/></a>"
      ]
    },
    {
      "cell_type": "markdown",
      "source": [
        "\n",
        "\n",
        "* All Course question : https://github.com/krishnaik06/The-Grand-Complete-Data-Science-Materials/tree/main\n",
        "\n"
      ],
      "metadata": {
        "id": "TZFroq1eXiZ8"
      }
    },
    {
      "cell_type": "markdown",
      "source": [
        "\n",
        "\n",
        "* Question python : https://github.com/krishnaik06/The-Grand-Complete-Data-Science-Materials/tree/main/Python\n",
        "\n"
      ],
      "metadata": {
        "id": "_9JqvBklVwwG"
      }
    },
    {
      "cell_type": "markdown",
      "source": [
        "# Interview questions on data structures and algorithms"
      ],
      "metadata": {
        "id": "Vr-fDLc35Pm0"
      }
    },
    {
      "cell_type": "markdown",
      "source": [
        "*  First python Question:https://github.com/krishnaik06/The-Grand-Complete-Data-Science-Materials/blob/main/Python/Python%20DSA%20Interviews.md"
      ],
      "metadata": {
        "id": "p8ZhYEEXV-k4"
      }
    },
    {
      "cell_type": "markdown",
      "source": [
        "1. Reverse a String\n",
        "\n",
        "*   Question: Reverse a given string.\n",
        "*   Answer:\n",
        "\n",
        "\n"
      ],
      "metadata": {
        "id": "IqTUUavPOiL_"
      }
    },
    {
      "cell_type": "code",
      "source": [
        "def reversestr(s):\n",
        "  return s[::-1]\n",
        "\n",
        "a = 'saurav sarkar'\n",
        "reversestr(a)"
      ],
      "metadata": {
        "colab": {
          "base_uri": "https://localhost:8080/",
          "height": 36
        },
        "id": "6qCo_3_4O2-c",
        "outputId": "7b77e312-7eff-4461-ed41-9a7d6d552cd7"
      },
      "execution_count": 3,
      "outputs": [
        {
          "output_type": "execute_result",
          "data": {
            "text/plain": [
              "'rakras varuas'"
            ],
            "application/vnd.google.colaboratory.intrinsic+json": {
              "type": "string"
            }
          },
          "metadata": {},
          "execution_count": 3
        }
      ]
    },
    {
      "cell_type": "markdown",
      "source": [
        "2.Check Palindrome\n",
        "*  Question: Check if a string is a palindrome.\n",
        "* Answer:"
      ],
      "metadata": {
        "id": "uQKa2TMwPMj0"
      }
    },
    {
      "cell_type": "code",
      "source": [
        "def palindrome(s):\n",
        "  if s == s[::-1]:\n",
        "    return 'Yes'\n",
        "  else:\n",
        "    return \"No\"\n",
        "\n",
        "a = 'abba'\n",
        "palindrome(a)"
      ],
      "metadata": {
        "colab": {
          "base_uri": "https://localhost:8080/",
          "height": 36
        },
        "id": "5zSVmH_EPHWx",
        "outputId": "f0b0a9d9-628f-4e0a-c204-d4a29b36aaa9"
      },
      "execution_count": 4,
      "outputs": [
        {
          "output_type": "execute_result",
          "data": {
            "text/plain": [
              "'Yes'"
            ],
            "application/vnd.google.colaboratory.intrinsic+json": {
              "type": "string"
            }
          },
          "metadata": {},
          "execution_count": 4
        }
      ]
    },
    {
      "cell_type": "markdown",
      "source": [
        "3.Find Factorial\n",
        "\n",
        "*   Question: Calculate the factorial of a number.\n",
        "*   Answer:"
      ],
      "metadata": {
        "id": "xBh2mL0UPrYT"
      }
    },
    {
      "cell_type": "code",
      "source": [
        "def Factorial(f):\n",
        "  if f > 0:\n",
        "    l = [i for i in range(1,f+1)]\n",
        "    count = 1\n",
        "    for i in l:\n",
        "      count *= i\n",
        "    return count\n",
        "  else:\n",
        "    return 'Invliad'\n",
        "\n",
        "Factorial(5)"
      ],
      "metadata": {
        "colab": {
          "base_uri": "https://localhost:8080/"
        },
        "id": "_QKGl-NFQIuo",
        "outputId": "81e40f22-4204-4fa8-c1d7-bc0b55b55b35"
      },
      "execution_count": 5,
      "outputs": [
        {
          "output_type": "execute_result",
          "data": {
            "text/plain": [
              "120"
            ]
          },
          "metadata": {},
          "execution_count": 5
        }
      ]
    },
    {
      "cell_type": "code",
      "source": [
        "def factorial(n):\n",
        "  if n <= 1:\n",
        "    return 1\n",
        "  return n * factorial(n-1)\n",
        "factorial(5)"
      ],
      "metadata": {
        "colab": {
          "base_uri": "https://localhost:8080/"
        },
        "id": "YNkIHu58RHId",
        "outputId": "0710a2f1-cf9a-45a4-a529-e6d5e341fbb0"
      },
      "execution_count": 6,
      "outputs": [
        {
          "output_type": "execute_result",
          "data": {
            "text/plain": [
              "120"
            ]
          },
          "metadata": {},
          "execution_count": 6
        }
      ]
    },
    {
      "cell_type": "markdown",
      "source": [
        "4.Fibonacci Series\n",
        "\n",
        "*   Question: Generate the nth Fibonacci number.\n",
        "*   Answer:"
      ],
      "metadata": {
        "id": "kODTqZ58TKol"
      }
    },
    {
      "cell_type": "code",
      "source": [
        "def fibonacci(n):\n",
        "  if n <= 1:\n",
        "    return n\n",
        "  return fibonacci(n-1) + fibonacci(n-2)\n",
        "\n",
        "fibonacci(10)"
      ],
      "metadata": {
        "colab": {
          "base_uri": "https://localhost:8080/"
        },
        "id": "EfHohwcPUoPj",
        "outputId": "f432504c-ee89-48b0-d650-7cc238245c87"
      },
      "execution_count": 7,
      "outputs": [
        {
          "output_type": "execute_result",
          "data": {
            "text/plain": [
              "55"
            ]
          },
          "metadata": {},
          "execution_count": 7
        }
      ]
    },
    {
      "cell_type": "markdown",
      "source": [
        "5.Find the Middle of Linked List\n",
        "\n",
        "\n",
        "\n",
        "* Question: Find the middle element of a linked list.\n",
        "*  Answer:\n",
        "\n"
      ],
      "metadata": {
        "id": "6unFCg4nU4sd"
      }
    },
    {
      "cell_type": "code",
      "source": [
        "class Node:\n",
        "  def __init__(self,value):\n",
        "    self.value = value\n",
        "    self.next = None\n",
        "\n",
        "class LinkList:\n",
        "  def __init__(self,value):\n",
        "    new_node = Node(value)\n",
        "    self.head = new_node\n",
        "    self.tail = new_node\n",
        "    self.length = 1\n",
        "\n",
        "  def append(self,value):\n",
        "    new_node = Node(value)\n",
        "    if self.length == 0:\n",
        "      self.head = new_node\n",
        "      self.tail = new_node\n",
        "    else:\n",
        "      self.tail.next = new_node\n",
        "      self.tail = new_node\n",
        "    self.length += 1\n",
        "\n",
        "  def print_list(self):\n",
        "    temp = self.head\n",
        "    while temp is not None:\n",
        "      print(temp.value)\n",
        "      temp = temp.next\n",
        "\n",
        "  def meddle_node(self):\n",
        "    slow = self.head\n",
        "    fast = self.head\n",
        "    while fast is not None and fast.next is not None:\n",
        "      slow = slow.next\n",
        "      fast = fast.next.next\n",
        "    return slow\n",
        "\n",
        "l1 = LinkList(10)\n",
        "l1.append(20)\n",
        "l1.append(30)\n",
        "l1.append(40)\n",
        "l1.append(50)\n",
        "print(l1.meddle_node().value)"
      ],
      "metadata": {
        "id": "WLRZoGam1b2q",
        "outputId": "2c041f6b-314e-4ef6-bb54-5dc3b3b61438",
        "colab": {
          "base_uri": "https://localhost:8080/"
        }
      },
      "execution_count": 8,
      "outputs": [
        {
          "output_type": "stream",
          "name": "stdout",
          "text": [
            "30\n"
          ]
        }
      ]
    },
    {
      "cell_type": "code",
      "source": [],
      "metadata": {
        "id": "vDh30aSR4VfQ"
      },
      "execution_count": 8,
      "outputs": []
    },
    {
      "cell_type": "markdown",
      "source": [
        "\n",
        "\n",
        "# Python interview questions"
      ],
      "metadata": {
        "id": "KJPIRiIX5R6w"
      }
    },
    {
      "cell_type": "markdown",
      "source": [
        "question python : https://github.com/krishnaik06/The-Grand-Complete-Data-Science-Materials/blob/main/Python/Python%20Interview%20practise%20questions.md"
      ],
      "metadata": {
        "id": "2Xrl6gZp5XIP"
      }
    },
    {
      "cell_type": "markdown",
      "source": [
        "1. Question: Write a function that takes a list of numbers and returns the sum.\n",
        "\n",
        "\n",
        "\n",
        "*   Answer:\n",
        "\n",
        "\n"
      ],
      "metadata": {
        "id": "qTHCtG5X6S0n"
      }
    },
    {
      "cell_type": "code",
      "source": [
        "def function(nums):\n",
        "  count = 0\n",
        "  for i in range(len(nums)):\n",
        "    count += nums[i]\n",
        "  return count\n",
        "\n",
        "l = [1,2,3,4,5,6,7,8,9]\n",
        "print(function(l))"
      ],
      "metadata": {
        "id": "TmELfSxl7jjo",
        "outputId": "cf3b5314-e7de-49ee-9d93-cea1a3d89dc4",
        "colab": {
          "base_uri": "https://localhost:8080/"
        }
      },
      "execution_count": 13,
      "outputs": [
        {
          "output_type": "stream",
          "name": "stdout",
          "text": [
            "45\n"
          ]
        }
      ]
    },
    {
      "cell_type": "code",
      "source": [],
      "metadata": {
        "id": "IrcXE4qP76vX"
      },
      "execution_count": null,
      "outputs": []
    }
  ]
}