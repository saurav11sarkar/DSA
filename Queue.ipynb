{
  "nbformat": 4,
  "nbformat_minor": 0,
  "metadata": {
    "colab": {
      "provenance": [],
      "authorship_tag": "ABX9TyOPh6uyULlCGFF38KBjeL7p",
      "include_colab_link": true
    },
    "kernelspec": {
      "name": "python3",
      "display_name": "Python 3"
    },
    "language_info": {
      "name": "python"
    }
  },
  "cells": [
    {
      "cell_type": "markdown",
      "metadata": {
        "id": "view-in-github",
        "colab_type": "text"
      },
      "source": [
        "<a href=\"https://colab.research.google.com/github/saurav11sarkar/DSA/blob/main/Queue.ipynb\" target=\"_parent\"><img src=\"https://colab.research.google.com/assets/colab-badge.svg\" alt=\"Open In Colab\"/></a>"
      ]
    },
    {
      "cell_type": "code",
      "execution_count": 8,
      "metadata": {
        "colab": {
          "base_uri": "https://localhost:8080/"
        },
        "id": "VrFf72GVolSX",
        "outputId": "0573415c-5e64-4c80-e154-516271d4390a"
      },
      "outputs": [
        {
          "output_type": "stream",
          "name": "stdout",
          "text": [
            "2\n",
            "3\n"
          ]
        }
      ],
      "source": [
        "# Queue (FIFO)\n",
        "class Node:\n",
        "  def __init__(self,value):\n",
        "    self.value = value\n",
        "    self.next = None\n",
        "\n",
        "class Queue:\n",
        "  def __init__(self,value):\n",
        "    new_node = Node(value)\n",
        "    self.first = new_node\n",
        "    self.last = new_node\n",
        "    self.length = 1\n",
        "\n",
        "  def print_queue(self):\n",
        "    temp = self.first\n",
        "    while temp is not None:\n",
        "      print(temp.value)\n",
        "      temp = temp.next\n",
        "\n",
        "  def edqueue(self,value):\n",
        "    new_node = Node(value)\n",
        "    if self.length == 0:\n",
        "      self.first = new_node\n",
        "      self.last = new_node\n",
        "    else:\n",
        "      self.last.next = new_node\n",
        "      self.last = new_node\n",
        "    self.length += 1\n",
        "    return True\n",
        "\n",
        "  def dequeue(self):\n",
        "    if self.length == 0:\n",
        "      return None\n",
        "    temp = self.first\n",
        "    if self.length == 1:\n",
        "      self.first = None\n",
        "      self.last = None\n",
        "    else:\n",
        "      self.first = self.first.next\n",
        "      temp.next = None\n",
        "    self.length -= 1\n",
        "    return temp\n",
        "\n",
        "my_queue = Queue(1)\n",
        "my_queue.edqueue(2)\n",
        "my_queue.edqueue(3)\n",
        "my_queue.dequeue()\n",
        "# my_queue.dequeue()\n",
        "my_queue.print_queue()\n"
      ]
    },
    {
      "cell_type": "code",
      "source": [],
      "metadata": {
        "id": "uJ3SbjUGtkZB"
      },
      "execution_count": null,
      "outputs": []
    }
  ]
}